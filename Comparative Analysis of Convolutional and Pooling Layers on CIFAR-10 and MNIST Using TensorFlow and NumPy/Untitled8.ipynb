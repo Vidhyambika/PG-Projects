{
  "nbformat": 4,
  "nbformat_minor": 0,
  "metadata": {
    "colab": {
      "provenance": []
    },
    "kernelspec": {
      "name": "python3",
      "display_name": "Python 3"
    },
    "language_info": {
      "name": "python"
    }
  },
  "cells": [
    {
      "cell_type": "code",
      "execution_count": null,
      "metadata": {
        "colab": {
          "base_uri": "https://localhost:8080/",
          "height": 524
        },
        "id": "vD6Z2V0Ocxyk",
        "outputId": "c6ea37f7-2b71-4cef-e3c2-f9fc35101417"
      },
      "outputs": [
        {
          "output_type": "display_data",
          "data": {
            "text/plain": [
              "<Figure size 1000x500 with 5 Axes>"
            ],
            "image/png": "[encoded data removed]"
          },
          "metadata": {}
        },
        {
          "output_type": "stream",
          "name": "stdout",
          "text": [
            "Sample image shape: (28, 28, 1)\n"
          ]
        },
        {
          "output_type": "display_data",
          "data": {
            "text/plain": [
              "<Figure size 1200x400 with 3 Axes>"
            ],
            "image/png": "[encoded data removed]"
          },
          "metadata": {}
        }
      ],
      "source": [
        "import numpy as np\n",
        "import matplotlib.pyplot as plt\n",
        "from tensorflow.keras.datasets import mnist\n",
        "\n",
        "# Load the MNIST dataset\n",
        "(train_images, train_labels), (test_images, test_labels) = mnist.load_data()\n",
        "\n",
        "# Preprocess the data\n",
        "train_images = train_images.reshape((60000, 28, 28, 1))\n",
        "train_images = train_images.astype('float32') / 255\n",
        "\n",
        "# Function to display images\n",
        "def show_images(images, labels, num_images=5):\n",
        "    plt.figure(figsize=(10, 5))\n",
        "    for i in range(num_images):\n",
        "        plt.subplot(1, num_images, i + 1)\n",
        "        plt.imshow(images[i].reshape(28, 28), cmap='gray')\n",
        "        plt.title(\"Label: {}\".format(labels[i]))\n",
        "        plt.axis('off')\n",
        "    plt.show()\n",
        "\n",
        "# Display sample images from the dataset\n",
        "show_images(train_images, train_labels)\n",
        "\n",
        "print(\"Sample image shape:\", sample_image.shape)\n",
        "\n",
        "# Define convolution operation\n",
        "def convolution(input_data, kernel):\n",
        "    \"\"\"\n",
        "    Performs convolution operation on input_data with kernel.\n",
        "\n",
        "    Args:\n",
        "    input_data: Input data, a 3D NumPy array (height, width, channels).\n",
        "    kernel: Convolution kernel, a 2D NumPy array.\n",
        "\n",
        "    Returns:\n",
        "    output: Output after convolution operation.\n",
        "    \"\"\"\n",
        "    input_height, input_width, input_channels = input_data.shape\n",
        "    kernel_height, kernel_width = kernel.shape\n",
        "\n",
        "    # Calculate output dimensions\n",
        "    output_height = input_height - kernel_height + 1\n",
        "    output_width = input_width - kernel_width + 1\n",
        "\n",
        "    # Initialize output\n",
        "    output = np.zeros((output_height, output_width))\n",
        "\n",
        "    # Perform convolution\n",
        "    for i in range(output_height):\n",
        "        for j in range(output_width):\n",
        "            output[i, j] = np.sum(input_data[i:i+kernel_height, j:j+kernel_width] * kernel)\n",
        "\n",
        "    return output\n",
        "\n",
        "\n",
        "# Define max pooling operation\n",
        "def max_pooling(input_data, pool_size=(2, 2)):\n",
        "    \"\"\"\n",
        "    Performs max pooling operation on input_data.\n",
        "\n",
        "    Args:\n",
        "    input_data: Input data, a 2D NumPy array (height, width).\n",
        "    pool_size: Size of the pooling window, a tuple (pool_height, pool_width).\n",
        "\n",
        "    Returns:\n",
        "    output: Output after max pooling operation.\n",
        "    \"\"\"\n",
        "    pool_height, pool_width = pool_size\n",
        "\n",
        "    # Calculate output dimensions\n",
        "    output_height = input_data.shape[0] // pool_height\n",
        "    output_width = input_data.shape[1] // pool_width\n",
        "\n",
        "    # Initialize output\n",
        "    output = np.zeros((output_height, output_width))\n",
        "\n",
        "    # Perform max pooling\n",
        "    for i in range(output_height):\n",
        "        for j in range(output_width):\n",
        "            output[i, j] = np.max(input_data[i*pool_height:(i+1)*pool_height, j*pool_width:(j+1)*pool_width])\n",
        "\n",
        "    return output\n",
        "\n",
        "\n",
        "# Example usage\n",
        "# Take a sample image from the dataset\n",
        "sample_image = train_images[0]\n",
        "\n",
        "# Define a simple convolution kernel\n",
        "kernel = np.array([[-1, -1, -1],\n",
        "                   [-1,  8, -1],\n",
        "                   [-1, -1, -1]])\n",
        "\n",
        "# Perform convolution on the sample image\n",
        "conv_result = convolution(sample_image, kernel)\n",
        "\n",
        "# Perform max pooling on the convolution result\n",
        "pooled_result = max_pooling(conv_result)\n",
        "\n",
        "# Display original image, convolution result, and pooled result\n",
        "plt.figure(figsize=(12, 4))\n",
        "plt.subplot(1, 3, 1)\n",
        "plt.imshow(sample_image.reshape(28, 28), cmap='gray')\n",
        "plt.title(\"Original Image\")\n",
        "plt.axis('off')\n",
        "\n",
        "plt.subplot(1, 3, 2)\n",
        "plt.imshow(conv_result, cmap='gray')\n",
        "plt.title(\"Convolution Result\")\n",
        "plt.axis('off')\n",
        "\n",
        "plt.subplot(1, 3, 3)\n",
        "plt.imshow(pooled_result, cmap='gray')\n",
        "plt.title(\"Pooled Result\")\n",
        "plt.axis('off')\n",
        "\n",
        "plt.show()\n"
      ]
    }
  ]
}