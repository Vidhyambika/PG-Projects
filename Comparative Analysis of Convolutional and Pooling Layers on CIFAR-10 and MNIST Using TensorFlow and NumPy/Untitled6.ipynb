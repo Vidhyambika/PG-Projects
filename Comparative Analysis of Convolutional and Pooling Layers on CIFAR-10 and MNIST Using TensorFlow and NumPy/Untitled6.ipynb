{
  "nbformat": 4,
  "nbformat_minor": 0,
  "metadata": {
    "colab": {
      "provenance": []
    },
    "kernelspec": {
      "name": "python3",
      "display_name": "Python 3"
    },
    "language_info": {
      "name": "python"
    }
  },
  "cells": [
    {
      "cell_type": "code",
      "execution_count": null,
      "metadata": {
        "colab": {
          "base_uri": "https://localhost:8080/"
        },
        "id": "AyQVO5LgaHqk",
        "outputId": "3b3e33e2-c0df-441a-a1b2-eaba5a7f661c"
      },
      "outputs": [
        {
          "output_type": "stream",
          "name": "stdout",
          "text": [
            "Downloading data from https://www.cs.toronto.edu/~kriz/cifar-10-python.tar.gz\n",
            "170498071/170498071 [==============================] - 4s 0us/step\n",
            "Train data shape: (50000, 32, 32, 3)\n",
            "Test data shape: (10000, 32, 32, 3)\n"
          ]
        }
      ],
      "source": [
        "# Cell 1: Import libraries\n",
        "import numpy as np\n",
        "from tensorflow.keras.datasets import cifar10\n",
        "import matplotlib.pyplot as plt\n",
        "\n",
        "# Load the CIFAR-10 dataset\n",
        "(x_train, y_train), (x_test, y_test) = cifar10.load_data()\n",
        "\n",
        "# Normalize the images\n",
        "x_train = x_train.astype('float32') / 255.0\n",
        "x_test = x_test.astype('float32') / 255.0\n",
        "\n",
        "# Display the shape of the data\n",
        "print(f'Train data shape: {x_train.shape}')\n",
        "print(f'Test data shape: {x_test.shape}')\n"
      ]
    },
    {
      "cell_type": "code",
      "source": [
        "# Cell 2: Define Convolution Layer using NumPy\n",
        "def conv2d(image, kernel, stride=1, padding='same'):\n",
        "    kernel_height, kernel_width, _, num_filters = kernel.shape\n",
        "    if padding == 'same':\n",
        "        pad_h = (kernel_height - 1) // 2\n",
        "        pad_w = (kernel_width - 1) // 2\n",
        "        image = np.pad(image, ((pad_h, pad_h), (pad_w, pad_w), (0, 0)), mode='constant')\n",
        "\n",
        "    output_height = (image.shape[0] - kernel_height) // stride + 1\n",
        "    output_width = (image.shape[1] - kernel_width) // stride + 1\n",
        "    output = np.zeros((output_height, output_width, num_filters))\n",
        "\n",
        "    for h in range(output_height):\n",
        "        for w in range(output_width):\n",
        "            for c in range(num_filters):\n",
        "                h_start, h_end = h * stride, h * stride + kernel_height\n",
        "                w_start, w_end = w * stride, w * stride + kernel_width\n",
        "                output[h, w, c] = np.sum(image[h_start:h_end, w_start:w_end, :] * kernel[:, :, :, c])\n",
        "\n",
        "    return output\n",
        "\n",
        "# Example usage\n",
        "kernel = np.random.randn(3, 3, 3, 16)  # 3x3 kernel, 3 input channels, 16 output channels\n",
        "output = conv2d(x_train[0], kernel)\n",
        "print(f'Convolution output shape: {output.shape}')\n"
      ],
      "metadata": {
        "colab": {
          "base_uri": "https://localhost:8080/"
        },
        "id": "ISfYMzhPaNV2",
        "outputId": "2b67342e-647a-4345-c5af-9c5f8fdd9e27"
      },
      "execution_count": null,
      "outputs": [
        {
          "output_type": "stream",
          "name": "stdout",
          "text": [
            "Convolution output shape: (32, 32, 16)\n"
          ]
        }
      ]
    },
    {
      "cell_type": "code",
      "source": [
        "# Cell 3: Define Pooling Layer using NumPy\n",
        "def max_pooling(image, size=2, stride=2):\n",
        "    output_height = (image.shape[0] - size) // stride + 1\n",
        "    output_width = (image.shape[1] - size) // stride + 1\n",
        "    output = np.zeros((output_height, output_width, image.shape[2]))\n",
        "\n",
        "    for h in range(output_height):\n",
        "        for w in range(output_width):\n",
        "            for c in range(image.shape[2]):\n",
        "                h_start, h_end = h * stride, h * stride + size\n",
        "                w_start, w_end = w * stride, w * stride + size\n",
        "                output[h, w, c] = np.max(image[h_start:h_end, w_start:w_end, c])\n",
        "\n",
        "    return output\n",
        "\n",
        "# Example usage\n",
        "pooled_output = max_pooling(output)\n",
        "print(f'Pooling output shape: {pooled_output.shape}')\n"
      ],
      "metadata": {
        "colab": {
          "base_uri": "https://localhost:8080/"
        },
        "id": "-YUdcEt_aN5N",
        "outputId": "9cbe3a9f-7518-4068-98ff-cf06579fd1cd"
      },
      "execution_count": null,
      "outputs": [
        {
          "output_type": "stream",
          "name": "stdout",
          "text": [
            "Pooling output shape: (16, 16, 16)\n"
          ]
        }
      ]
    },
    {
      "cell_type": "code",
      "source": [
        "\n",
        "### Step 4: Visualize the ResultLet's visualize the original image, the convolution output, and the pooling output.```python\n",
        "# Cell 4: Visualize the Result\n",
        "def plot_image(image, title):\n",
        "    if len(image.shape) == 3 and image.shape[2] == 1:\n",
        "        image = image[:, :, 0]\n",
        "    plt.imshow(image, cmap='gray' if image.ndim == 2 else None)\n",
        "    plt.title(title)\n",
        "    plt.axis('off')\n",
        "\n",
        "# Original image\n",
        "plt.figure(figsize=(10, 4))\n",
        "plt.subplot(1, 3, 1)\n",
        "plot_image(x_train[0], 'Original Image')\n",
        "\n",
        "# Convolution output (show the first channel of the first filter)\n",
        "plt.subplot(1, 3, 2)\n",
        "plot_image(output[:, :, 0], 'Convolution Output (1st channel)')\n",
        "\n",
        "# Pooling output (show the first channel)\n",
        "plt.subplot(1, 3, 3)\n",
        "plot_image(pooled_output[:, :, 0], 'Pooling Output (1st channel)')\n",
        "\n",
        "plt.show()\n"
      ],
      "metadata": {
        "colab": {
          "base_uri": "https://localhost:8080/"
        },
        "id": "UTLEJ2DBaetF",
        "outputId": "3eca3aed-7dd3-4b4f-d5b1-46f82423b511"
      },
      "execution_count": null,
      "outputs": [
        {
          "output_type": "display_data",
          "data": {
            "text/plain": [
              "<Figure size 1000x400 with 3 Axes>"
            ],
            "image/png": "[encoded data removed]"
          },
          "metadata": {}
        }
      ]
    }
  ]
}