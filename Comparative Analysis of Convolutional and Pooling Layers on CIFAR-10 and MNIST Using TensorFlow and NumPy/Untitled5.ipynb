{
  "nbformat": 4,
  "nbformat_minor": 0,
  "metadata": {
    "colab": {
      "provenance": []
    },
    "kernelspec": {
      "name": "python3",
      "display_name": "Python 3"
    },
    "language_info": {
      "name": "python"
    }
  },
  "cells": [
    {
      "cell_type": "code",
      "execution_count": null,
      "metadata": {
        "colab": {
          "base_uri": "https://localhost:8080/"
        },
        "id": "3QmU3upDYJ7R",
        "outputId": "27f9adad-3593-4589-b57b-23cf6b755132"
      },
      "outputs": [
        {
          "output_type": "stream",
          "name": "stdout",
          "text": [
            "Downloading data from https://www.cs.toronto.edu/~kriz/cifar-10-python.tar.gz\n",
            "170498071/170498071 [==============================] - 3s 0us/step\n",
            "Train data shape: (50000, 32, 32, 3)\n",
            "Test data shape: (10000, 32, 32, 3)\n"
          ]
        }
      ],
      "source": [
        "# Cell 1: Import libraries\n",
        "import numpy as np\n",
        "import tensorflow as tf\n",
        "from tensorflow.keras.datasets import cifar10\n",
        "import matplotlib.pyplot as plt\n",
        "\n",
        "# Load the CIFAR-10 dataset\n",
        "(x_train, y_train), (x_test, y_test) = cifar10.load_data()\n",
        "\n",
        "# Normalize the images\n",
        "x_train = x_train.astype('float32') / 255.0\n",
        "x_test = x_test.astype('float32') / 255.0\n",
        "\n",
        "# Display the shape of the data\n",
        "print(f'Train data shape: {x_train.shape}')\n",
        "print(f'Test data shape: {x_test.shape}')\n"
      ]
    },
    {
      "cell_type": "code",
      "source": [
        "# Cell 2: Define Convolution Layer\n",
        "def conv2d(image, kernel, stride=1, padding='same'):\n",
        "    if padding == 'same':\n",
        "        pad_h = (kernel.shape[0] - 1) // 2\n",
        "        pad_w = (kernel.shape[1] - 1) // 2\n",
        "        image = np.pad(image, ((pad_h, pad_h), (pad_w, pad_w), (0, 0)), mode='constant')\n",
        "\n",
        "    output_height = (image.shape[0] - kernel.shape[0]) // stride + 1\n",
        "    output_width = (image.shape[1] - kernel.shape[1]) // stride + 1\n",
        "    output = np.zeros((output_height, output_width, kernel.shape[3]))\n",
        "\n",
        "    for h in range(output_height):\n",
        "        for w in range(output_width):\n",
        "            for c in range(kernel.shape[3]):\n",
        "                output[h, w, c] = np.sum(\n",
        "                    image[h*stride:h*stride+kernel.shape[0], w*stride:w*stride+kernel.shape[1], :] * kernel[:, :, :, c]\n",
        "                )\n",
        "\n",
        "    return output\n",
        "\n",
        "# Example usage\n",
        "kernel = np.random.randn(3, 3, 3, 16)  # 3x3 kernel, 3 input channels, 16 output channels\n",
        "output = conv2d(x_train[0], kernel)\n",
        "print(f'Convolution output shape: {output.shape}')"
      ],
      "metadata": {
        "colab": {
          "base_uri": "https://localhost:8080/"
        },
        "id": "TDJuOlXJYNGH",
        "outputId": "132a11a6-e399-4f6c-ca65-f5e7e18e99df"
      },
      "execution_count": null,
      "outputs": [
        {
          "output_type": "stream",
          "name": "stdout",
          "text": [
            "Convolution output shape: (32, 32, 16)\n"
          ]
        }
      ]
    },
    {
      "cell_type": "code",
      "source": [
        "# Cell 3: Define Pooling Layer\n",
        "def max_pooling(image, size=2, stride=2):\n",
        "    output_height = (image.shape[0] - size) // stride + 1\n",
        "    output_width = (image.shape[1] - size) // stride + 1\n",
        "    output = np.zeros((output_height, output_width, image.shape[2]))\n",
        "\n",
        "    for h in range(output_height):\n",
        "        for w in range(output_width):\n",
        "            for c in range(image.shape[2]):\n",
        "                output[h, w, c] = np.max(\n",
        "                    image[h*stride:h*stride+size, w*stride:w*stride+size, c]\n",
        "                )\n",
        "\n",
        "    return output\n",
        "\n",
        "# Example usage\n",
        "pooled_output = max_pooling(output)\n",
        "print(f'Pooling output shape: {pooled_output.shape}')"
      ],
      "metadata": {
        "colab": {
          "base_uri": "https://localhost:8080/"
        },
        "id": "CB5OktX5YPZ1",
        "outputId": "d2d73333-2894-4339-b400-7a9b6cc467d1"
      },
      "execution_count": null,
      "outputs": [
        {
          "output_type": "stream",
          "name": "stdout",
          "text": [
            "Pooling output shape: (16, 16, 16)\n"
          ]
        }
      ]
    },
    {
      "cell_type": "code",
      "source": [
        "# Cell 4: Visualize the Result\n",
        "def plot_image(image, title):\n",
        "    plt.imshow(image)\n",
        "    plt.title(title)\n",
        "    plt.axis('off')\n",
        "\n",
        "# Original image\n",
        "plt.figure(figsize=(10, 4))\n",
        "plt.subplot(1, 3, 1)\n",
        "plot_image(x_train[0], 'Original Image')\n",
        "\n",
        "# Convolution output (show the first channel of the first filter)\n",
        "plt.subplot(1, 3, 2)\n",
        "plot_image(output[:, :, 0], 'Convolution Output (1st channel)')\n",
        "\n",
        "# Pooling output (show the first channel)\n",
        "plt.subplot(1, 3, 3)\n",
        "plot_image(pooled_output[:, :, 0], 'Pooling Output (1st channel)')\n",
        "\n",
        "plt.show()"
      ],
      "metadata": {
        "colab": {
          "base_uri": "https://localhost:8080/",
          "height": 287
        },
        "id": "i35UIzaVYRv1",
        "outputId": "3345841e-b48e-4fdd-987f-05247ed58410"
      },
      "execution_count": null,
      "outputs": [
        {
          "output_type": "display_data",
          "data": {
            "text/plain": [
              "<Figure size 1000x400 with 3 Axes>"
            ],
            "image/png": "[encoded data removed]"
          },
          "metadata": {}
        }
      ]
    }
  ]
}