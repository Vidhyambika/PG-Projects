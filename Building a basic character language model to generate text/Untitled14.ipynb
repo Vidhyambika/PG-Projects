{
  "nbformat": 4,
  "nbformat_minor": 0,
  "metadata": {
    "colab": {
      "provenance": []
    },
    "kernelspec": {
      "name": "python3",
      "display_name": "Python 3"
    },
    "language_info": {
      "name": "python"
    }
  },
  "cells": [
    {
      "cell_type": "code",
      "source": [
        "import numpy as np\n",
        "import tensorflow as tf\n",
        "\n",
        "# Load and preprocess the text\n",
        "text = open('input_text.txt', 'r').read()\n",
        "vocab = sorted(set(text))\n",
        "char_to_index = {char: index for index, char in enumerate(vocab)}\n",
        "index_to_char = np.array(vocab)\n",
        "text_as_int = np.array([char_to_index[c] for c in text])\n",
        "\n",
        "# Create training examples and targets\n",
        "seq_length = 100\n",
        "examples_per_epoch = len(text) // (seq_length + 1)\n",
        "char_dataset = tf.data.Dataset.from_tensor_slices(text_as_int)\n",
        "sequences = char_dataset.batch(seq_length + 1, drop_remainder=True)\n",
        "\n",
        "def split_input_target(chunk):\n",
        "    input_text = chunk[:-1]\n",
        "    target_text = chunk[1:]\n",
        "    return input_text, target_text\n",
        "\n",
        "dataset = sequences.map(split_input_target)\n",
        "\n",
        "# Batch size\n",
        "BATCH_SIZE = 1  # Set batch size to 1 for text generation\n",
        "\n",
        "# Buffer size to shuffle the dataset\n",
        "BUFFER_SIZE = 10000\n",
        "\n",
        "dataset = dataset.shuffle(BUFFER_SIZE).batch(BATCH_SIZE)\n",
        "\n",
        "# Length of the vocabulary in chars\n",
        "vocab_size = len(vocab)\n",
        "\n",
        "# The embedding dimension\n",
        "embedding_dim = 256\n",
        "\n",
        "# Number of RNN units\n",
        "rnn_units = 1024\n",
        "\n",
        "# Build the model\n",
        "model = tf.keras.Sequential([\n",
        "    tf.keras.layers.Embedding(vocab_size, embedding_dim, batch_input_shape=[BATCH_SIZE, None]),\n",
        "    tf.keras.layers.GRU(rnn_units, return_sequences=True, stateful=True, recurrent_initializer='glorot_uniform'),\n",
        "    tf.keras.layers.Dense(vocab_size)\n",
        "])\n",
        "\n",
        "# Restore the latest checkpoint if available\n",
        "checkpoint_dir = './training_checkpoints'\n",
        "latest_checkpoint = tf.train.latest_checkpoint(checkpoint_dir)\n",
        "if (latest_checkpoint is not None):\n",
        "    model.load_weights(latest_checkpoint)\n",
        "    model.build(tf.TensorShape([1, None]))  # Build the model with batch size 1\n",
        "\n",
        "# Function to generate text\n",
        "def generate_text(model, start_string, num_generate=100, temperature=0.1):\n",
        "    # Ensure start_string contains only known characters\n",
        "    for char in start_string:\n",
        "        if char not in char_to_index:\n",
        "            raise ValueError(f\"Character '{char}' not found in char_to_index dictionary.\")\n",
        "\n",
        "    input_eval = [char_to_index[s] for s in start_string]\n",
        "    input_eval = tf.expand_dims(input_eval, 0)\n",
        "    text_generated = []\n",
        "    model.reset_states()\n",
        "    for i in range(num_generate):\n",
        "        predictions = model(input_eval)\n",
        "        predictions = tf.squeeze(predictions, 0)\n",
        "        predictions = predictions / temperature\n",
        "        predicted_id = tf.random.categorical(predictions, num_samples=1)[-1,0].numpy()\n",
        "        input_eval = tf.expand_dims([predicted_id], 0)\n",
        "        text_generated.append(index_to_char[predicted_id])\n",
        "    return (start_string + ''.join(text_generated))\n",
        "\n",
        "# Find a suitable start string\n",
        "suitable_start_string = ''.join([char for char in \"The sun is like the superstar of our solar system! It's the big, glowing ball of light that's right at the center. Imagine a giant, flaming ball that's so bright you can't even look at it without squinting!\" if char in char_to_index])\n",
        "\n",
        "# Generate text\n",
        "generated_text = generate_text(model, start_string=suitable_start_string, num_generate=100, temperature=0.1)\n",
        "print(generated_text)\n"
      ],
      "metadata": {
        "colab": {
          "base_uri": "https://localhost:8080/"
        },
        "id": "NiSmuKTKCJNN",
        "outputId": "9ca595ea-ff90-4984-b93d-cf72ca6f5747"
      },
      "execution_count": 5,
      "outputs": [
        {
          "output_type": "stream",
          "name": "stdout",
          "text": [
            "The sun is lie the superstar of our solar sstem! Its the big, gloing ball of light thats right at the center. Imagine a giant, flaming ball thats so bright ou cant even loo at it ithout squinting!PElxsMaQFntRt:?:MVdm,iTLAeRFCSBn.Nhi\n",
            "mu!T hDu,nH-vTEs:BNrTn;rTuEM-VQ.?tlDZgdnsmMcH?xvxD-rHEQD MdFt-h\n"
          ]
        }
      ]
    },
    {
      "cell_type": "markdown",
      "source": [
        "initially num generate value was 1000 temperature changed from 0.7 to 0.1"
      ],
      "metadata": {
        "id": "0RHyn4wE4pCv"
      }
    }
  ]
}